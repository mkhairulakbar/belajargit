{
 "cells": [
  {
   "cell_type": "markdown",
   "id": "8b806a99",
   "metadata": {},
   "source": [
    "# how to clone and access repository"
   ]
  },
  {
   "cell_type": "markdown",
   "id": "3a5482eb",
   "metadata": {},
   "source": [
    "## CLONE USING SSH\n",
    "\n",
    "\n",
    "1. harus ada Repository GitHub dulu. lalu copy URL SSH .\n",
    "2. Buka terminal dengan working directory di folder dimana kita mau menyimpan repository.\n",
    "3. Dalam Terminal gunakan command `git clone <URL SSH> \n",
    "4. Repository akan terbentuk di folder tersebut.\n"
   ]
  },
  {
   "cell_type": "markdown",
   "id": "33d95ad3",
   "metadata": {},
   "source": [
    "Selanjutnya buka working directory di repository nya tau langsung buka vscode di repository\n"
   ]
  },
  {
   "cell_type": "markdown",
   "id": "fd046609",
   "metadata": {},
   "source": [
    "## TRACK  AND COMMIT FILE(s) CHANGES\n"
   ]
  },
  {
   "cell_type": "markdown",
   "id": "0f8a4f23",
   "metadata": {},
   "source": [
    "1. Check status file dalam repository dengan 'git status' \n",
    "2. Untuk track perubahan pada file(s) gunakan 'gunakan add <add nama file>' untuk 1 file saja atau 'add .' untuk semua file\n",
    "3. kalau cek 'git status' lagi file aka berubah jadi tracked dan siap dilakukan commit.\n",
    "4. untuk menyimpan perubahan lakukan dengan 'git commit - n \"massage commit\" '"
   ]
  }
 ],
 "metadata": {
  "language_info": {
   "name": "python"
  }
 },
 "nbformat": 4,
 "nbformat_minor": 5
}
